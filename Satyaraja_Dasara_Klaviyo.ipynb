{
 "cells": [
  {
   "cell_type": "markdown",
   "metadata": {},
   "source": [
    "# Name: Satyaraja Dasara\n",
    "# Email: sdasara95@gmail.com\n",
    "\n",
    "# <a href='https://www.linkedin.com/in/sdasara95/'><i class=\"fa fa-linkedin\" aria-hidden=\"true\"></i></a> <a href='https://github.com/sdasara95' ><i class=\"fa fa-github\" style=\"color:black\" aria-hidden=\"true\"></i></a> <a href='https://sdasara95.github.io/' ><i class=\"fa fa-rss\" aria-hidden=\"true\" style=\"color:orange\"></i></a>"
   ]
  },
  {
   "cell_type": "markdown",
   "metadata": {},
   "source": [
    "# Klaviyo Customer Analysis Project"
   ]
  },
  {
   "cell_type": "code",
   "execution_count": 112,
   "metadata": {},
   "outputs": [],
   "source": [
    "# Importing all the necessary packages\n",
    "import os\n",
    "import pandas as pd\n",
    "import seaborn as sns\n",
    "import numpy as np\n",
    "from matplotlib import pyplot as plt\n",
    "import scipy.stats as stats\n",
    "import statsmodels.api as sm"
   ]
  },
  {
   "cell_type": "code",
   "execution_count": 113,
   "metadata": {},
   "outputs": [
    {
     "data": {
      "text/plain": [
       "['.ipynb_checkpoints',\n",
       " 'Prudhvi_Klaviyo.ipynb',\n",
       " 'Satyaraja_Dasara_Klaviyo.ipynb',\n",
       " 'screening_exercise_orders_v201810.csv']"
      ]
     },
     "execution_count": 113,
     "metadata": {},
     "output_type": "execute_result"
    }
   ],
   "source": [
    "# Listing the files in current folder\n",
    "os.listdir()"
   ]
  },
  {
   "cell_type": "code",
   "execution_count": 114,
   "metadata": {},
   "outputs": [],
   "source": [
    "# Reading the csv file into a Pandas dataframe\n",
    "file_name = 'screening_exercise_orders_v201810.csv'\n",
    "data = pd.read_csv(file_name)"
   ]
  },
  {
   "cell_type": "code",
   "execution_count": 115,
   "metadata": {},
   "outputs": [
    {
     "data": {
      "text/html": [
       "<div>\n",
       "<style scoped>\n",
       "    .dataframe tbody tr th:only-of-type {\n",
       "        vertical-align: middle;\n",
       "    }\n",
       "\n",
       "    .dataframe tbody tr th {\n",
       "        vertical-align: top;\n",
       "    }\n",
       "\n",
       "    .dataframe thead th {\n",
       "        text-align: right;\n",
       "    }\n",
       "</style>\n",
       "<table border=\"1\" class=\"dataframe\">\n",
       "  <thead>\n",
       "    <tr style=\"text-align: right;\">\n",
       "      <th></th>\n",
       "      <th>customer_id</th>\n",
       "      <th>gender</th>\n",
       "      <th>date</th>\n",
       "      <th>value</th>\n",
       "      <th>predicted_gender</th>\n",
       "    </tr>\n",
       "  </thead>\n",
       "  <tbody>\n",
       "    <tr>\n",
       "      <th>0</th>\n",
       "      <td>1000</td>\n",
       "      <td>0</td>\n",
       "      <td>2017-01-01 00:11:31</td>\n",
       "      <td>198.50</td>\n",
       "      <td>1</td>\n",
       "    </tr>\n",
       "    <tr>\n",
       "      <th>1</th>\n",
       "      <td>1001</td>\n",
       "      <td>0</td>\n",
       "      <td>2017-01-01 00:29:56</td>\n",
       "      <td>338.00</td>\n",
       "      <td>1</td>\n",
       "    </tr>\n",
       "    <tr>\n",
       "      <th>2</th>\n",
       "      <td>1002</td>\n",
       "      <td>1</td>\n",
       "      <td>2017-01-01 01:30:31</td>\n",
       "      <td>733.00</td>\n",
       "      <td>1</td>\n",
       "    </tr>\n",
       "    <tr>\n",
       "      <th>3</th>\n",
       "      <td>1003</td>\n",
       "      <td>1</td>\n",
       "      <td>2017-01-01 01:34:22</td>\n",
       "      <td>772.00</td>\n",
       "      <td>1</td>\n",
       "    </tr>\n",
       "    <tr>\n",
       "      <th>4</th>\n",
       "      <td>1004</td>\n",
       "      <td>0</td>\n",
       "      <td>2017-01-01 03:11:54</td>\n",
       "      <td>508.00</td>\n",
       "      <td>1</td>\n",
       "    </tr>\n",
       "    <tr>\n",
       "      <th>5</th>\n",
       "      <td>1005</td>\n",
       "      <td>1</td>\n",
       "      <td>2017-01-01 10:08:05</td>\n",
       "      <td>338.00</td>\n",
       "      <td>0</td>\n",
       "    </tr>\n",
       "    <tr>\n",
       "      <th>6</th>\n",
       "      <td>1006</td>\n",
       "      <td>1</td>\n",
       "      <td>2017-01-01 15:42:57</td>\n",
       "      <td>1526.43</td>\n",
       "      <td>1</td>\n",
       "    </tr>\n",
       "    <tr>\n",
       "      <th>7</th>\n",
       "      <td>1007</td>\n",
       "      <td>0</td>\n",
       "      <td>2017-01-01 15:59:50</td>\n",
       "      <td>168.00</td>\n",
       "      <td>0</td>\n",
       "    </tr>\n",
       "    <tr>\n",
       "      <th>8</th>\n",
       "      <td>1008</td>\n",
       "      <td>0</td>\n",
       "      <td>2017-01-01 18:01:04</td>\n",
       "      <td>207.99</td>\n",
       "      <td>0</td>\n",
       "    </tr>\n",
       "    <tr>\n",
       "      <th>9</th>\n",
       "      <td>1009</td>\n",
       "      <td>1</td>\n",
       "      <td>2017-01-01 19:27:17</td>\n",
       "      <td>283.00</td>\n",
       "      <td>1</td>\n",
       "    </tr>\n",
       "  </tbody>\n",
       "</table>\n",
       "</div>"
      ],
      "text/plain": [
       "   customer_id  gender                 date    value  predicted_gender\n",
       "0         1000       0  2017-01-01 00:11:31   198.50                 1\n",
       "1         1001       0  2017-01-01 00:29:56   338.00                 1\n",
       "2         1002       1  2017-01-01 01:30:31   733.00                 1\n",
       "3         1003       1  2017-01-01 01:34:22   772.00                 1\n",
       "4         1004       0  2017-01-01 03:11:54   508.00                 1\n",
       "5         1005       1  2017-01-01 10:08:05   338.00                 0\n",
       "6         1006       1  2017-01-01 15:42:57  1526.43                 1\n",
       "7         1007       0  2017-01-01 15:59:50   168.00                 0\n",
       "8         1008       0  2017-01-01 18:01:04   207.99                 0\n",
       "9         1009       1  2017-01-01 19:27:17   283.00                 1"
      ]
     },
     "execution_count": 115,
     "metadata": {},
     "output_type": "execute_result"
    }
   ],
   "source": [
    "# Peeking into the first 10 records\n",
    "data.head(10)"
   ]
  },
  {
   "cell_type": "code",
   "execution_count": 116,
   "metadata": {},
   "outputs": [
    {
     "data": {
      "text/plain": [
       "customer_id           int64\n",
       "gender                int64\n",
       "date                 object\n",
       "value               float64\n",
       "predicted_gender      int64\n",
       "dtype: object"
      ]
     },
     "execution_count": 116,
     "metadata": {},
     "output_type": "execute_result"
    }
   ],
   "source": [
    "# Checking the data-types of the columns in data\n",
    "data.dtypes"
   ]
  },
  {
   "cell_type": "code",
   "execution_count": 117,
   "metadata": {},
   "outputs": [
    {
     "data": {
      "text/plain": [
       "customer_id                  int64\n",
       "gender                       int64\n",
       "date                datetime64[ns]\n",
       "value                      float64\n",
       "predicted_gender             int64\n",
       "dtype: object"
      ]
     },
     "execution_count": 117,
     "metadata": {},
     "output_type": "execute_result"
    }
   ],
   "source": [
    "# Converting the data-type of the date column to datetime and doing sanity check of the data-types\n",
    "data['date'] = pd.to_datetime(data['date'])\n",
    "data.dtypes"
   ]
  },
  {
   "cell_type": "code",
   "execution_count": 118,
   "metadata": {},
   "outputs": [
    {
     "data": {
      "text/plain": [
       "(13471, 5)"
      ]
     },
     "execution_count": 118,
     "metadata": {},
     "output_type": "execute_result"
    }
   ],
   "source": [
    "# Checking the shape of the dataframe \n",
    "data.shape"
   ]
  },
  {
   "cell_type": "markdown",
   "metadata": {},
   "source": [
    "# Executing the tasks"
   ]
  },
  {
   "cell_type": "markdown",
   "metadata": {},
   "source": [
    "## A) Assemble a dataframe with one row per customer and the following columns:\n",
    "\n",
    "* customer_id\n",
    "* gender\n",
    "* most_recent_order_date\n",
    "* order_count (number of orders placed by this customer)\n",
    "\n",
    "Sort the dataframe by customer_id ascending and display the first 10 rows."
   ]
  },
  {
   "cell_type": "markdown",
   "metadata": {},
   "source": [
    "**Since we are required to have one row for each Customer ID, we need to Group By Customer ID.<br>\n",
    "Each Customer ID can have more than one gender in multiple records, hence, we use Scipy.stats to get the mode for gender for each Customer ID. <br>\n",
    "We use np.max to get the most recent order date. <br>\n",
    "We use np.size to get the count of records with a particular Customer ID**"
   ]
  },
  {
   "cell_type": "code",
   "execution_count": 234,
   "metadata": {},
   "outputs": [
    {
     "data": {
      "text/html": [
       "<div>\n",
       "<style scoped>\n",
       "    .dataframe tbody tr th:only-of-type {\n",
       "        vertical-align: middle;\n",
       "    }\n",
       "\n",
       "    .dataframe tbody tr th {\n",
       "        vertical-align: top;\n",
       "    }\n",
       "\n",
       "    .dataframe thead th {\n",
       "        text-align: right;\n",
       "    }\n",
       "</style>\n",
       "<table border=\"1\" class=\"dataframe\">\n",
       "  <thead>\n",
       "    <tr style=\"text-align: right;\">\n",
       "      <th></th>\n",
       "      <th>customer_id</th>\n",
       "      <th>gender</th>\n",
       "      <th>most_recent_order_date</th>\n",
       "      <th>order_count</th>\n",
       "    </tr>\n",
       "  </thead>\n",
       "  <tbody>\n",
       "    <tr>\n",
       "      <th>0</th>\n",
       "      <td>1000</td>\n",
       "      <td>0</td>\n",
       "      <td>2017-01-01 00:11:31</td>\n",
       "      <td>1.0</td>\n",
       "    </tr>\n",
       "    <tr>\n",
       "      <th>1</th>\n",
       "      <td>1001</td>\n",
       "      <td>0</td>\n",
       "      <td>2017-01-01 00:29:56</td>\n",
       "      <td>1.0</td>\n",
       "    </tr>\n",
       "    <tr>\n",
       "      <th>2</th>\n",
       "      <td>1002</td>\n",
       "      <td>1</td>\n",
       "      <td>2017-02-19 21:35:31</td>\n",
       "      <td>3.0</td>\n",
       "    </tr>\n",
       "    <tr>\n",
       "      <th>3</th>\n",
       "      <td>1003</td>\n",
       "      <td>1</td>\n",
       "      <td>2017-04-26 02:37:20</td>\n",
       "      <td>4.0</td>\n",
       "    </tr>\n",
       "    <tr>\n",
       "      <th>4</th>\n",
       "      <td>1004</td>\n",
       "      <td>0</td>\n",
       "      <td>2017-01-01 03:11:54</td>\n",
       "      <td>1.0</td>\n",
       "    </tr>\n",
       "    <tr>\n",
       "      <th>5</th>\n",
       "      <td>1005</td>\n",
       "      <td>1</td>\n",
       "      <td>2017-12-16 01:39:27</td>\n",
       "      <td>2.0</td>\n",
       "    </tr>\n",
       "    <tr>\n",
       "      <th>6</th>\n",
       "      <td>1006</td>\n",
       "      <td>1</td>\n",
       "      <td>2017-05-09 15:27:20</td>\n",
       "      <td>3.0</td>\n",
       "    </tr>\n",
       "    <tr>\n",
       "      <th>7</th>\n",
       "      <td>1007</td>\n",
       "      <td>0</td>\n",
       "      <td>2017-01-01 15:59:50</td>\n",
       "      <td>1.0</td>\n",
       "    </tr>\n",
       "    <tr>\n",
       "      <th>8</th>\n",
       "      <td>1008</td>\n",
       "      <td>0</td>\n",
       "      <td>2017-12-17 05:47:48</td>\n",
       "      <td>3.0</td>\n",
       "    </tr>\n",
       "    <tr>\n",
       "      <th>9</th>\n",
       "      <td>1009</td>\n",
       "      <td>1</td>\n",
       "      <td>2017-01-01 19:27:17</td>\n",
       "      <td>1.0</td>\n",
       "    </tr>\n",
       "  </tbody>\n",
       "</table>\n",
       "</div>"
      ],
      "text/plain": [
       "   customer_id  gender most_recent_order_date  order_count\n",
       "0         1000       0    2017-01-01 00:11:31          1.0\n",
       "1         1001       0    2017-01-01 00:29:56          1.0\n",
       "2         1002       1    2017-02-19 21:35:31          3.0\n",
       "3         1003       1    2017-04-26 02:37:20          4.0\n",
       "4         1004       0    2017-01-01 03:11:54          1.0\n",
       "5         1005       1    2017-12-16 01:39:27          2.0\n",
       "6         1006       1    2017-05-09 15:27:20          3.0\n",
       "7         1007       0    2017-01-01 15:59:50          1.0\n",
       "8         1008       0    2017-12-17 05:47:48          3.0\n",
       "9         1009       1    2017-01-01 19:27:17          1.0"
      ]
     },
     "execution_count": 234,
     "metadata": {},
     "output_type": "execute_result"
    }
   ],
   "source": [
    "df = data.groupby('customer_id', as_index=False).agg({'gender': lambda x: stats.mode(x)[0][0], 'date': np.max, 'value': np.size})\n",
    "# Changing the names of the columns\n",
    "df.columns = ['customer_id','gender','most_recent_order_date','order_count']\n",
    "# Sorting values for customer_id to print in ascending order. Sorting is not required but a sanity check.\n",
    "df = df.sort_values(['customer_id'])\n",
    "df.head(10)"
   ]
  },
  {
   "cell_type": "markdown",
   "metadata": {},
   "source": [
    "**Customer with Id 6419 seems to be a highest revenue generating customer with 25 orders**"
   ]
  },
  {
   "cell_type": "code",
   "execution_count": 123,
   "metadata": {},
   "outputs": [
    {
     "data": {
      "text/html": [
       "<div>\n",
       "<style scoped>\n",
       "    .dataframe tbody tr th:only-of-type {\n",
       "        vertical-align: middle;\n",
       "    }\n",
       "\n",
       "    .dataframe tbody tr th {\n",
       "        vertical-align: top;\n",
       "    }\n",
       "\n",
       "    .dataframe thead th {\n",
       "        text-align: right;\n",
       "    }\n",
       "</style>\n",
       "<table border=\"1\" class=\"dataframe\">\n",
       "  <thead>\n",
       "    <tr style=\"text-align: right;\">\n",
       "      <th></th>\n",
       "      <th>customer_id</th>\n",
       "      <th>gender</th>\n",
       "      <th>most_recent_order_date</th>\n",
       "      <th>order_count</th>\n",
       "    </tr>\n",
       "  </thead>\n",
       "  <tbody>\n",
       "    <tr>\n",
       "      <th>6419</th>\n",
       "      <td>7419</td>\n",
       "      <td>1</td>\n",
       "      <td>2017-12-15 15:34:56</td>\n",
       "      <td>25.0</td>\n",
       "    </tr>\n",
       "  </tbody>\n",
       "</table>\n",
       "</div>"
      ],
      "text/plain": [
       "      customer_id  gender most_recent_order_date  order_count\n",
       "6419         7419       1    2017-12-15 15:34:56         25.0"
      ]
     },
     "execution_count": 123,
     "metadata": {},
     "output_type": "execute_result"
    }
   ],
   "source": [
    "df[df.order_count==np.max(df['order_count'])]"
   ]
  },
  {
   "cell_type": "markdown",
   "metadata": {},
   "source": [
    "## B) Plot the count of orders per week for the store."
   ]
  },
  {
   "cell_type": "markdown",
   "metadata": {},
   "source": [
    "**We create a new column called Week by applying strftime method on date column. <br>\n",
    "This method will assign any days in the beginning of January which are in the same week as last days of December of previous year to Week 0. <br>\n",
    "We Group By the Week column and use np.size for the value field to get the count of orders. <br>\n",
    "We get our final data-frame with Week numbers and corresponding count of orders for that week.**"
   ]
  },
  {
   "cell_type": "code",
   "execution_count": 126,
   "metadata": {},
   "outputs": [
    {
     "data": {
      "text/html": [
       "<div>\n",
       "<style scoped>\n",
       "    .dataframe tbody tr th:only-of-type {\n",
       "        vertical-align: middle;\n",
       "    }\n",
       "\n",
       "    .dataframe tbody tr th {\n",
       "        vertical-align: top;\n",
       "    }\n",
       "\n",
       "    .dataframe thead th {\n",
       "        text-align: right;\n",
       "    }\n",
       "</style>\n",
       "<table border=\"1\" class=\"dataframe\">\n",
       "  <thead>\n",
       "    <tr style=\"text-align: right;\">\n",
       "      <th></th>\n",
       "      <th>week</th>\n",
       "      <th>orders_per_week</th>\n",
       "    </tr>\n",
       "  </thead>\n",
       "  <tbody>\n",
       "    <tr>\n",
       "      <th>0</th>\n",
       "      <td>00</td>\n",
       "      <td>14.0</td>\n",
       "    </tr>\n",
       "    <tr>\n",
       "      <th>1</th>\n",
       "      <td>01</td>\n",
       "      <td>180.0</td>\n",
       "    </tr>\n",
       "    <tr>\n",
       "      <th>2</th>\n",
       "      <td>02</td>\n",
       "      <td>264.0</td>\n",
       "    </tr>\n",
       "    <tr>\n",
       "      <th>3</th>\n",
       "      <td>03</td>\n",
       "      <td>405.0</td>\n",
       "    </tr>\n",
       "    <tr>\n",
       "      <th>4</th>\n",
       "      <td>04</td>\n",
       "      <td>233.0</td>\n",
       "    </tr>\n",
       "  </tbody>\n",
       "</table>\n",
       "</div>"
      ],
      "text/plain": [
       "  week  orders_per_week\n",
       "0   00             14.0\n",
       "1   01            180.0\n",
       "2   02            264.0\n",
       "3   03            405.0\n",
       "4   04            233.0"
      ]
     },
     "execution_count": 126,
     "metadata": {},
     "output_type": "execute_result"
    }
   ],
   "source": [
    "df_b = data.copy()\n",
    "# New column with week numbers extracted from date column\n",
    "df_b['week'] = df_b.date.dt.strftime('%W')\n",
    "df_b = df_b.groupby(df_b['week'],as_index=False).agg({'value': np.size})\n",
    "df_b.columns = ['week','orders_per_week']\n",
    "df_b.head(5)"
   ]
  },
  {
   "cell_type": "markdown",
   "metadata": {},
   "source": [
    "**Week 0 is the starting days of January that fall in the 52nd week of previous year**"
   ]
  },
  {
   "cell_type": "markdown",
   "metadata": {},
   "source": [
    "**Displaying all the week numbers in x-axis will make the x-axis cluttered and untidy. <br>\n",
    "We use 4 week windows for better legibility. <br>\n",
    "We ignore Week 0 as it's an incomplete week with days from previous year. <br>\n",
    "We instead start the x-ticks from week 1.**\n"
   ]
  },
  {
   "cell_type": "code",
   "execution_count": 162,
   "metadata": {},
   "outputs": [
    {
     "data": {
      "image/png": "[encoded data removed]",
      "text/plain": [
       "<Figure size 1080x540 with 1 Axes>"
      ]
     },
     "metadata": {
      "needs_background": "light"
     },
     "output_type": "display_data"
    }
   ],
   "source": [
    "# xcoords stores the x axis values where we want the vertical dash lines\n",
    "xcoords =[1]+[i for i in range(4,53,4)]\n",
    "# Set a default figure size\n",
    "plt.figure(figsize=(15,7.5))\n",
    "# Plotting lineplot using seaborn package\n",
    "ax = sns.lineplot(x='week',y='orders_per_week',data= df_b)\n",
    "# Setting title and labels for the plot\n",
    "ax.set_title('Orders per week',fontweight='bold')\n",
    "ax.set_ylabel('Count of Orders',fontweight='bold')\n",
    "ax.set_xlabel('Week Numbers',fontweight='bold')\n",
    "# Drawing the ticks on the x\n",
    "plt.xticks(xcoords)\n",
    "# Drawing the vertical dash line for each week in 4 week window\n",
    "for xc in xcoords:\n",
    "    plt.axvline(x=xc,color='black',linestyle='--',linewidth=0.5)\n",
    "plt.show(ax)"
   ]
  },
  {
   "cell_type": "markdown",
   "metadata": {},
   "source": [
    "**Week 20 had the highest count of orders.**"
   ]
  },
  {
   "cell_type": "markdown",
   "metadata": {},
   "source": [
    "**We can also plot for the four financial quarters to get a better insight. <br>\n",
    "Let's do it by using different colors for each quarter. Let's use Viridis, a colorblind proof colormap.**"
   ]
  },
  {
   "cell_type": "code",
   "execution_count": 197,
   "metadata": {},
   "outputs": [],
   "source": [
    "import matplotlib\n",
    "# Fetching the colormap pallete\n",
    "cmap = matplotlib.cm.get_cmap('viridis')\n",
    "# Choosing 4 colors equally spaced between 0.1 and 0.9 using np.linspace\n",
    "colors = [cmap(i) for i in np.linspace(0.1,0.9,4) ]"
   ]
  },
  {
   "cell_type": "code",
   "execution_count": 198,
   "metadata": {},
   "outputs": [
    {
     "data": {
      "image/png": "[encoded data removed]",
      "text/plain": [
       "<Figure size 1080x540 with 1 Axes>"
      ]
     },
     "metadata": {
      "needs_background": "light"
     },
     "output_type": "display_data"
    }
   ],
   "source": [
    "orders = df_b['orders_per_week'].to_numpy()\n",
    "quart = 52//4\n",
    "# Getting the ending weeks of the 4 quarters\n",
    "quarters = [quart*i for i in range(1,5,1)]\n",
    "\n",
    "plt.figure(figsize=(15,7.5))\n",
    "# Starting and ending week for each quarter plot. Initially week is 0.\n",
    "start = 0\n",
    "end = start+quart\n",
    "for i in range(4):\n",
    "    # Since last index is excluded we add 1. This is because we have week 0 too.\n",
    "    final_end = min(end+1,53)\n",
    "    # Week numbers for x axis for this quarater\n",
    "    x_axis = [i for i in range(start,final_end)]\n",
    "    quarter_number = i+1\n",
    "    plt.plot(x_axis,orders[start:final_end],label = f'Q{quarter_number}',color=colors[i])\n",
    "    # Updating new start and end for next quarter\n",
    "    start+=quart\n",
    "    end+=quart\n",
    "\n",
    "plt.xticks([0]+quarters)\n",
    "# Initially plotting vertical dashed line for week 0.\n",
    "plt.axvline(x=0,color='black',linestyle='--',linewidth=0.5)\n",
    "for i in quarters:\n",
    "    plt.axvline(x=i,color='black',linestyle='--',linewidth=0.5)\n",
    "\n",
    "# Plotting legend\n",
    "plt.legend()\n",
    "\n",
    "plt.title('Orders per Week',fontweight='bold')\n",
    "plt.xlabel('Week numbers',fontweight='bold')\n",
    "plt.ylabel('Count of orders',fontweight='bold')\n",
    "plt.show()"
   ]
  },
  {
   "cell_type": "markdown",
   "metadata": {},
   "source": [
    "**Quarter 2 was the highest revenue generating quarter for this store.**"
   ]
  },
  {
   "cell_type": "markdown",
   "metadata": {},
   "source": [
    "## C) Compute the mean order value for gender 0 and for gender 1. Do you think the difference is significant? Justify your choice of method."
   ]
  },
  {
   "cell_type": "markdown",
   "metadata": {},
   "source": [
    "**Let's convert the columns into numpy arrays and calculate the mean values**"
   ]
  },
  {
   "cell_type": "code",
   "execution_count": 200,
   "metadata": {},
   "outputs": [],
   "source": [
    "# Converting the column values for each gender to numpy\n",
    "orders_0 = data[data.gender.eq(0)]['value'].to_numpy()\n",
    "orders_1= data[data.gender.eq(1)]['value'].to_numpy()\n",
    "N_0 = len(orders_0)\n",
    "N_1 = len(orders_1)"
   ]
  },
  {
   "cell_type": "code",
   "execution_count": 201,
   "metadata": {},
   "outputs": [
    {
     "name": "stdout",
     "output_type": "stream",
     "text": [
      "Mean order value for\u001b[1m gender 0 \u001b[0mis\u001b[1m 363.89 \u001b[0m\n",
      "Mean order value for\u001b[1m gender 1 \u001b[0mis\u001b[1m 350.71 \u001b[0m\n"
     ]
    }
   ],
   "source": [
    "# Getting the mean order value directly using numpy\n",
    "mean_0 = np.mean(orders_0)\n",
    "mean_1 = np.mean(orders_1)\n",
    "\n",
    "print('Mean order value for\\033[1m gender 0 \\033[0mis\\033[1m {:0.2f} \\033[0m'.format(mean_0))\n",
    "print('Mean order value for\\033[1m gender 1 \\033[0mis\\033[1m {:0.2f} \\033[0m'.format(mean_1))"
   ]
  },
  {
   "cell_type": "markdown",
   "metadata": {},
   "source": [
    "**We plot the distribution plot for each gender to get an idea of the data distribution**"
   ]
  },
  {
   "cell_type": "code",
   "execution_count": 218,
   "metadata": {},
   "outputs": [
    {
     "data": {
      "image/png": "[encoded data removed]",
      "text/plain": [
       "<Figure size 432x288 with 1 Axes>"
      ]
     },
     "metadata": {
      "needs_background": "light"
     },
     "output_type": "display_data"
    }
   ],
   "source": [
    "chart = sns.distplot(orders_0)\n",
    "chart.set_title('Distribution of orders for gender 0',fontweight='bold')\n",
    "chart.set_xlabel\n",
    "plt.show(chart)"
   ]
  },
  {
   "cell_type": "code",
   "execution_count": 217,
   "metadata": {
    "scrolled": true
   },
   "outputs": [
    {
     "data": {
      "image/png": "[encoded data removed]",
      "text/plain": [
       "<Figure size 432x288 with 1 Axes>"
      ]
     },
     "metadata": {
      "needs_background": "light"
     },
     "output_type": "display_data"
    }
   ],
   "source": [
    "chart = sns.distplot(orders_1)\n",
    "chart.set_title('Distribution of orders for gender 1',fontweight='bold')\n",
    "plt.show(chart)"
   ]
  },
  {
   "cell_type": "markdown",
   "metadata": {},
   "source": [
    "**The distributions seem skewed to the right. <br>\n",
    "They look like Log Normal distributions.**"
   ]
  },
  {
   "cell_type": "markdown",
   "metadata": {},
   "source": [
    "**Let's evaluate the skewness using Scipy's stats.skew method. <br>\n",
    "A normal distribution should a skew of 0.**"
   ]
  },
  {
   "cell_type": "code",
   "execution_count": 211,
   "metadata": {},
   "outputs": [
    {
     "name": "stdout",
     "output_type": "stream",
     "text": [
      "Skewness for gender 0 is 4.41\n"
     ]
    }
   ],
   "source": [
    "# Since there is no statistical estimation being done, we set the bias as False for skew. \n",
    "skewness_0 = stats.skew(orders_0, axis=0, bias=False)\n",
    "print('Skewness for gender 0 is {:0.2f}'.format(skewness_0))"
   ]
  },
  {
   "cell_type": "code",
   "execution_count": 212,
   "metadata": {},
   "outputs": [
    {
     "name": "stdout",
     "output_type": "stream",
     "text": [
      "Skewness for gender 1 is 4.91\n"
     ]
    }
   ],
   "source": [
    "skewness_1 = stats.skew(orders_1, axis=0, bias=False)\n",
    "print('Skewness for gender 1 is {:0.2f}'.format(skewness_1))"
   ]
  },
  {
   "cell_type": "markdown",
   "metadata": {},
   "source": [
    "**The distributions are highly skewed with high values 4.4 and 4.9 <br>\n",
    "Let's try handling this by applying a Log Transform and checking if distribution becomes normal by plotting distplot again. <br>Since we can't ignore zero order values we add a small noise of 10e-5 before doing Log**"
   ]
  },
  {
   "cell_type": "code",
   "execution_count": 215,
   "metadata": {},
   "outputs": [
    {
     "data": {
      "image/png": "[encoded data removed]",
      "text/plain": [
       "<Figure size 432x288 with 1 Axes>"
      ]
     },
     "metadata": {
      "needs_background": "light"
     },
     "output_type": "display_data"
    }
   ],
   "source": [
    "# We apply log for each element in our orders array.\n",
    "# We add a small noise of 10e-5 as we can't zero order values.\n",
    "new0 = np.array([np.log(i+10e-5) for i in orders_0])\n",
    "# Plotting distplot using seaborn and returning the axes \n",
    "a = sns.distplot(new0)\n",
    "# Setting the title of the axes\n",
    "a.set_title('Distribution of Log transformed orders for gender 0',fontweight='bold')\n",
    "plt.show(a)"
   ]
  },
  {
   "cell_type": "code",
   "execution_count": 216,
   "metadata": {},
   "outputs": [
    {
     "data": {
      "image/png": "[encoded data removed]",
      "text/plain": [
       "<Figure size 432x288 with 1 Axes>"
      ]
     },
     "metadata": {
      "needs_background": "light"
     },
     "output_type": "display_data"
    }
   ],
   "source": [
    "new1 = np.array([np.log(i+10e-5) for i in orders_1])\n",
    "a = sns.distplot(new1)\n",
    "a.set_title('Distribution of Log transformed orders for gender 1',fontweight='bold')\n",
    "plt.show(a)"
   ]
  },
  {
   "cell_type": "markdown",
   "metadata": {},
   "source": [
    "**The two log transformed distributions are looking Bi-Modal and not Normal.**"
   ]
  },
  {
   "cell_type": "markdown",
   "metadata": {},
   "source": [
    "**The distributions don't look completely normal.<br>\n",
    "Let's plot a QQ-Plot using statsmodels package and verify the normality.**"
   ]
  },
  {
   "cell_type": "code",
   "execution_count": 220,
   "metadata": {},
   "outputs": [
    {
     "data": {
      "image/png": "[encoded data removed]",
      "text/plain": [
       "<Figure size 432x288 with 1 Axes>"
      ]
     },
     "metadata": {
      "needs_background": "light"
     },
     "output_type": "display_data"
    }
   ],
   "source": [
    "# Using the statsmodels package to plot qq plot with a 45 degree line to check for normality\n",
    "sm.qqplot(new0, line ='45') \n",
    "plt.title('QQ plot for log transformed data for gender 0',fontweight='bold')\n",
    "plt.show()"
   ]
  },
  {
   "cell_type": "code",
   "execution_count": 221,
   "metadata": {},
   "outputs": [
    {
     "data": {
      "image/png": "[encoded data removed]",
      "text/plain": [
       "<Figure size 432x288 with 1 Axes>"
      ]
     },
     "metadata": {
      "needs_background": "light"
     },
     "output_type": "display_data"
    }
   ],
   "source": [
    "sm.qqplot(new1, line ='45') \n",
    "plt.title('QQ plot for log transformed data for gender 1',fontweight='bold')\n",
    "plt.show()"
   ]
  },
  {
   "cell_type": "markdown",
   "metadata": {},
   "source": [
    "**The quantiles are not overlapping with the 45 degrees line. <br>\n",
    "It looks like the distributions aren't normal at all. <br>\n",
    "Let's check for the number of samples for each gender**"
   ]
  },
  {
   "cell_type": "code",
   "execution_count": 95,
   "metadata": {},
   "outputs": [
    {
     "name": "stdout",
     "output_type": "stream",
     "text": [
      "Number of samples with gender 0 is 6759\n",
      "Number of samples with gender 1 is 6712\n"
     ]
    }
   ],
   "source": [
    "print(f'Number of samples with gender 0 is {N_0}')\n",
    "print(f'Number of samples with gender 1 is {N_1}')"
   ]
  },
  {
   "cell_type": "markdown",
   "metadata": {},
   "source": [
    "**The number of samples are pretty high and are roughly equal.**"
   ]
  },
  {
   "cell_type": "markdown",
   "metadata": {},
   "source": [
    "**Let's check if both the groups can be assumed to have equal variance.**"
   ]
  },
  {
   "cell_type": "markdown",
   "metadata": {},
   "source": [
    "**Assume null hypothesis that both the groups have equal variance and conduct Levene test with alpha = 0.05**"
   ]
  },
  {
   "cell_type": "code",
   "execution_count": 223,
   "metadata": {},
   "outputs": [
    {
     "name": "stdout",
     "output_type": "stream",
     "text": [
      "The p-value for Levene test is 0.018782230716425024\n"
     ]
    }
   ],
   "source": [
    "# Using scipy.stats to conduct Levene test. The test is 2 sided p test. The alpha and p value are both sided cumulative.\n",
    "l_stat,levene_pvalue = stats.levene(orders_0,orders_1)\n",
    "print(f'The p-value for Levene test is {levene_pvalue}')"
   ]
  },
  {
   "cell_type": "markdown",
   "metadata": {},
   "source": [
    "**Since p-value is lesser than alpha we reject the null hypothesis that the two groups have equal variances**"
   ]
  },
  {
   "cell_type": "markdown",
   "metadata": {},
   "source": [
    "**Let's do our significance testing on the original data itself. <br>\n",
    "Since we have a large number of samples, let's first do a Welch independent t-test for unequal variances. <br>\n",
    "Usually this test is robust to assumption of normality when number of samples are high for both groups. <br>**"
   ]
  },
  {
   "cell_type": "markdown",
   "metadata": {},
   "source": [
    "**Our Null Hypothesis is that the means of order values for both the groups are equal with alpha = 0.05**"
   ]
  },
  {
   "cell_type": "code",
   "execution_count": 78,
   "metadata": {},
   "outputs": [],
   "source": [
    "t_stat, p_val = stats.ttest_ind(a=orders_0, b=orders_1, equal_var=False, nan_policy='omit')"
   ]
  },
  {
   "cell_type": "code",
   "execution_count": 79,
   "metadata": {},
   "outputs": [
    {
     "name": "stdout",
     "output_type": "stream",
     "text": [
      "Welch t-test P-value is 0.04816296295128402\n"
     ]
    }
   ],
   "source": [
    "print(f'Welch t-test P-value is {p_val}')"
   ]
  },
  {
   "cell_type": "markdown",
   "metadata": {},
   "source": [
    "**The obtained p-value is very close to our alpha and normally we would reject the Null hypothesis.<br>\n",
    "The difference in means seems to be statistically different.**"
   ]
  },
  {
   "cell_type": "markdown",
   "metadata": {},
   "source": [
    "**We conduct the Mann Whitney U-test to be double sure whether the two groups belong to the same distribution.**"
   ]
  },
  {
   "cell_type": "markdown",
   "metadata": {},
   "source": [
    "**Our Null Hypothesis is that the two groups belong to the same distribution with alpha=0.05.**"
   ]
  },
  {
   "cell_type": "code",
   "execution_count": 80,
   "metadata": {},
   "outputs": [],
   "source": [
    "u_stat, p_val = stats.mannwhitneyu(orders_0, orders_1)"
   ]
  },
  {
   "cell_type": "code",
   "execution_count": 81,
   "metadata": {},
   "outputs": [
    {
     "name": "stdout",
     "output_type": "stream",
     "text": [
      "Mann Whitney U-test P-value is 0.15220525508505944\n"
     ]
    }
   ],
   "source": [
    "print(f'Mann Whitney U-test P-value is {p_val}')"
   ]
  },
  {
   "cell_type": "markdown",
   "metadata": {},
   "source": [
    "**Since p-value obtained is much greater than our alpha we have to accept Null Hypothesis that both groups have the same distribution as per Mann Whitney U-test.**"
   ]
  },
  {
   "cell_type": "markdown",
   "metadata": {},
   "source": [
    "**This leaves us in a bit of a fix. <br>\n",
    "Our distributions are highly skewed to the right meaning that there could be potential outliers. <br>\n",
    "Outliers reduce the chance of rejecting the null hypothesis for Welch yet we got p-value lesser than alpha for Welch. <br>\n",
    "Hence, we conclude that DIFFERENCE IS SIGNIFICANT between the genders.**"
   ]
  },
  {
   "cell_type": "markdown",
   "metadata": {},
   "source": [
    "## D) Generate a confusion matrix for the gender predictions of customers in this dataset. You can assume that there is only one gender prediction for each customer. What does the confusion matrix tell you about the quality of the predictions?"
   ]
  },
  {
   "cell_type": "markdown",
   "metadata": {},
   "source": [
    "**Confusion matrix is used to evaluate the quality of predictions for a classification problem.**"
   ]
  },
  {
   "cell_type": "markdown",
   "metadata": {},
   "source": [
    "**Each customer id can have more than one gender and predicted gender for multiple records. <br>\n",
    "We take the mode for gender and predicted gender for each customer id to tackle this. <br>\n",
    "We group by Customer ID and take the mode using Scipy's stats.mode**"
   ]
  },
  {
   "cell_type": "code",
   "execution_count": 225,
   "metadata": {},
   "outputs": [],
   "source": [
    "df = data.groupby('customer_id', as_index=False).agg({'gender': lambda x: stats.mode(x)[0][0], 'predicted_gender': lambda x: stats.mode(x)[0][0]})"
   ]
  },
  {
   "cell_type": "markdown",
   "metadata": {},
   "source": [
    "**We generate and plot the Confusion Matrix using sklearn and seaborn**"
   ]
  },
  {
   "cell_type": "code",
   "execution_count": 226,
   "metadata": {},
   "outputs": [],
   "source": [
    "#Using sklearn.metrics' confusion_matrix methos to generate our confusion matrix. \n",
    "from sklearn.metrics import confusion_matrix\n",
    "y = df['gender'].to_numpy()\n",
    "y_pred = df['predicted_gender'].to_numpy()\n",
    "cf_matrix = confusion_matrix(y, y_pred)"
   ]
  },
  {
   "cell_type": "code",
   "execution_count": 228,
   "metadata": {},
   "outputs": [
    {
     "data": {
      "text/plain": [
       "array([[2189, 2218],\n",
       "       [ 895, 3512]], dtype=int64)"
      ]
     },
     "execution_count": 228,
     "metadata": {},
     "output_type": "execute_result"
    }
   ],
   "source": [
    "# Sklearn confusion matrix sorts rows according to labels in ascending manner.\n",
    "cf_matrix"
   ]
  },
  {
   "cell_type": "code",
   "execution_count": 229,
   "metadata": {},
   "outputs": [],
   "source": [
    "#Fetch the True Negative, False Positive, False Negative and True Positive values\n",
    "#Ravel is used to flatten the matrix into a 1-D vector/list\n",
    "tn, fp, fn, tp = cf_matrix.ravel()"
   ]
  },
  {
   "cell_type": "code",
   "execution_count": 232,
   "metadata": {},
   "outputs": [
    {
     "data": {
      "image/png": "[encoded data removed]",
      "text/plain": [
       "<Figure size 720x360 with 2 Axes>"
      ]
     },
     "metadata": {
      "needs_background": "light"
     },
     "output_type": "display_data"
    }
   ],
   "source": [
    "plt.figure(figsize=(10,5))\n",
    "g = sns.heatmap(cf_matrix, annot=True,fmt='d',cmap='viridis')\n",
    "g.set_title('Confusion Matrix',fontweight='bold')\n",
    "g.set_xlabel('Predicted',fontweight='bold')\n",
    "g.set_ylabel('Actual',fontweight='bold')\n",
    "plt.show()"
   ]
  },
  {
   "cell_type": "markdown",
   "metadata": {},
   "source": [
    "**It looks like the model is predicting well for gender 1 but poorly for gender 0**"
   ]
  },
  {
   "cell_type": "markdown",
   "metadata": {},
   "source": [
    "**Let's check for class imbalance in the data**"
   ]
  },
  {
   "cell_type": "code",
   "execution_count": 109,
   "metadata": {},
   "outputs": [
    {
     "name": "stdout",
     "output_type": "stream",
     "text": [
      "Number of gender 0 is 4407\n",
      "Number of gender 1 is 4407\n"
     ]
    }
   ],
   "source": [
    "print('Number of gender 0 is {}'.format(len(y[y==0])))\n",
    "print('Number of gender 1 is {}'.format(len(y[y==1])))"
   ]
  },
  {
   "cell_type": "markdown",
   "metadata": {},
   "source": [
    "**Data has no class imbalance. <br>\n",
    "Assuming that prediction of both genders have equal priority,\n",
    "let's check accuracy, specificity and recall.**"
   ]
  },
  {
   "cell_type": "code",
   "execution_count": 233,
   "metadata": {},
   "outputs": [
    {
     "name": "stdout",
     "output_type": "stream",
     "text": [
      "Accuracy is 0.65\n",
      "Sensitivity is 0.80\n",
      "Specificity is 0.50\n"
     ]
    }
   ],
   "source": [
    "acc = (tp+tn)/(tp+tn+fp+fn)\n",
    "sensitivity = tp/(tp+fn)\n",
    "specificity = tn/(tn+fp)\n",
    "print('Accuracy is {:0.2f}'.format(acc))\n",
    "print('Sensitivity is {:0.2f}'.format(sensitivity))\n",
    "print('Specificity is {:0.2f}'.format(specificity))"
   ]
  },
  {
   "cell_type": "markdown",
   "metadata": {},
   "source": [
    "**Assuming that the correct prediction for both genders is equally important: <br>\n",
    "Positive label in our case is gender 1. Negative label is gender 0.<br>\n",
    "Sensitivity is 80% i.e. gender 1.<br>\n",
    "Specificity is 50% i.e. gender 0.<br>\n",
    "Overall accuracy is just 65%. <br>\n",
    "This means the model is predicting relatively better for gender 1 than gender 0. <br>\n",
    "Overall, the QUALITY OF PREDICTIONS IS POOR. <br>\n",
    "It could be that the original training dataset has a class imbalance with more number of gender 1 records. <br>\n",
    "To improve this model we need to optimize first for specificity then accuracy. <br>\n",
    "Currently the prediction for gender 0 is equivalent to that of a coin-flip. <br>**"
   ]
  },
  {
   "cell_type": "markdown",
   "metadata": {},
   "source": [
    "### E) Describe one of your favorite tools or techniques and give a small example of how it's helped you solve a problem. Limit your answer to one paragraph, and please be specific."
   ]
  },
  {
   "cell_type": "markdown",
   "metadata": {},
   "source": [
    "One of my favorite techniques is regularization to reduce over-fitting and generalise the model better.\n",
    "I built an eye tracking software during my internship at [edgetensor](https://edgetensor.com/)\n",
    "where I detected and converted eye region images into flattened vectors and prediction the x and y location points on the screen\n",
    "the user is looking at. During the calibration phase, I asked the user to look at few calibration points on the screen and collected\n",
    "the images and flattened them as a vector of length 60 where each element is a variable in the regression equation for least squares.\n",
    "I noticed that the training data is low i.e. less than 100 data points due to which the model likely overfitted on training and \n",
    "performed poorly on test data. I applied regularization using ridge regression and lasso regression and finally settled on ridge\n",
    "regression as it gave less error and worked better on my small training set."
   ]
  },
  {
   "cell_type": "markdown",
   "metadata": {},
   "source": [
    "## Key Takeaways\n",
    "* Customer ID 6419 has the highest orders with 25, 9 greater than second highest ordering customer with 16.\n",
    "* Quarter 2 is highest revenue generating quarter for the shop.\n",
    "* Jan 1 fell into week 0 with last days of previous year.\n",
    "* Order value distributions for both the genders seems similar but the difference in means is statistically significant.\n",
    "* Model performs poorly for gender 0."
   ]
  },
  {
   "cell_type": "markdown",
   "metadata": {},
   "source": [
    "## Future Work\n",
    "* Decision trees can be tried to build a classification model for the gender.\n",
    "* Data for more years can to evaluated to check for trend of high revenue for Q2.\n",
    "* More research has to be done for significance testing for non-normal distributions (bi/multi-modal or log normal)\n",
    "* Need more data to get a better insight."
   ]
  }
 ],
 "metadata": {
  "kernelspec": {
   "display_name": "Python 3",
   "language": "python",
   "name": "python3"
  },
  "language_info": {
   "codemirror_mode": {
    "name": "ipython",
    "version": 3
   },
   "file_extension": ".py",
   "mimetype": "text/x-python",
   "name": "python",
   "nbconvert_exporter": "python",
   "pygments_lexer": "ipython3",
   "version": "3.8.3"
  }
 },
 "nbformat": 4,
 "nbformat_minor": 4
}
