{
 "cells": [
  {
   "cell_type": "markdown",
   "metadata": {},
   "source": [
    "# Name: Satyaraja Dasara\n",
    "# Email: sdasara95@gmail.com\n",
    "\n",
    "# <a href='https://www.linkedin.com/in/sdasara95/'><i class=\"fa fa-linkedin\" aria-hidden=\"true\"></i></a> <a href='https://github.com/sdasara95' ><i class=\"fa fa-github\" style=\"color:black\" aria-hidden=\"true\"></i></a> <a href='https://sdasara95.github.io/' ><i class=\"fa fa-rss\" aria-hidden=\"true\" style=\"color:orange\"></i></a>"
   ]
  },
  {
   "cell_type": "code",
   "execution_count": 1,
   "metadata": {},
   "outputs": [],
   "source": [
    "import os\n",
    "import pandas as pd\n",
    "import seaborn as sns\n",
    "import numpy as np\n",
    "from matplotlib import pyplot as plt\n",
    "import scipy.stats as stats\n",
    "import statsmodels.api as sm"
   ]
  },
  {
   "cell_type": "code",
   "execution_count": 2,
   "metadata": {},
   "outputs": [
    {
     "data": {
      "text/plain": [
       "['.ipynb_checkpoints',\n",
       " 'Prudhvi_Klaviyo.ipynb',\n",
       " 'Satyaraja_Dasara_Klaviyo.ipynb',\n",
       " 'screening_exercise_orders_v201810.csv']"
      ]
     },
     "execution_count": 2,
     "metadata": {},
     "output_type": "execute_result"
    }
   ],
   "source": [
    "os.listdir()"
   ]
  },
  {
   "cell_type": "code",
   "execution_count": 3,
   "metadata": {},
   "outputs": [],
   "source": [
    "file_name = 'screening_exercise_orders_v201810.csv'\n",
    "data = pd.read_csv(file_name)"
   ]
  },
  {
   "cell_type": "code",
   "execution_count": 4,
   "metadata": {},
   "outputs": [
    {
     "data": {
      "text/html": [
       "<div>\n",
       "<style scoped>\n",
       "    .dataframe tbody tr th:only-of-type {\n",
       "        vertical-align: middle;\n",
       "    }\n",
       "\n",
       "    .dataframe tbody tr th {\n",
       "        vertical-align: top;\n",
       "    }\n",
       "\n",
       "    .dataframe thead th {\n",
       "        text-align: right;\n",
       "    }\n",
       "</style>\n",
       "<table border=\"1\" class=\"dataframe\">\n",
       "  <thead>\n",
       "    <tr style=\"text-align: right;\">\n",
       "      <th></th>\n",
       "      <th>customer_id</th>\n",
       "      <th>gender</th>\n",
       "      <th>date</th>\n",
       "      <th>value</th>\n",
       "      <th>predicted_gender</th>\n",
       "    </tr>\n",
       "  </thead>\n",
       "  <tbody>\n",
       "    <tr>\n",
       "      <th>0</th>\n",
       "      <td>1000</td>\n",
       "      <td>0</td>\n",
       "      <td>2017-01-01 00:11:31</td>\n",
       "      <td>198.50</td>\n",
       "      <td>1</td>\n",
       "    </tr>\n",
       "    <tr>\n",
       "      <th>1</th>\n",
       "      <td>1001</td>\n",
       "      <td>0</td>\n",
       "      <td>2017-01-01 00:29:56</td>\n",
       "      <td>338.00</td>\n",
       "      <td>1</td>\n",
       "    </tr>\n",
       "    <tr>\n",
       "      <th>2</th>\n",
       "      <td>1002</td>\n",
       "      <td>1</td>\n",
       "      <td>2017-01-01 01:30:31</td>\n",
       "      <td>733.00</td>\n",
       "      <td>1</td>\n",
       "    </tr>\n",
       "    <tr>\n",
       "      <th>3</th>\n",
       "      <td>1003</td>\n",
       "      <td>1</td>\n",
       "      <td>2017-01-01 01:34:22</td>\n",
       "      <td>772.00</td>\n",
       "      <td>1</td>\n",
       "    </tr>\n",
       "    <tr>\n",
       "      <th>4</th>\n",
       "      <td>1004</td>\n",
       "      <td>0</td>\n",
       "      <td>2017-01-01 03:11:54</td>\n",
       "      <td>508.00</td>\n",
       "      <td>1</td>\n",
       "    </tr>\n",
       "    <tr>\n",
       "      <th>5</th>\n",
       "      <td>1005</td>\n",
       "      <td>1</td>\n",
       "      <td>2017-01-01 10:08:05</td>\n",
       "      <td>338.00</td>\n",
       "      <td>0</td>\n",
       "    </tr>\n",
       "    <tr>\n",
       "      <th>6</th>\n",
       "      <td>1006</td>\n",
       "      <td>1</td>\n",
       "      <td>2017-01-01 15:42:57</td>\n",
       "      <td>1526.43</td>\n",
       "      <td>1</td>\n",
       "    </tr>\n",
       "    <tr>\n",
       "      <th>7</th>\n",
       "      <td>1007</td>\n",
       "      <td>0</td>\n",
       "      <td>2017-01-01 15:59:50</td>\n",
       "      <td>168.00</td>\n",
       "      <td>0</td>\n",
       "    </tr>\n",
       "    <tr>\n",
       "      <th>8</th>\n",
       "      <td>1008</td>\n",
       "      <td>0</td>\n",
       "      <td>2017-01-01 18:01:04</td>\n",
       "      <td>207.99</td>\n",
       "      <td>0</td>\n",
       "    </tr>\n",
       "    <tr>\n",
       "      <th>9</th>\n",
       "      <td>1009</td>\n",
       "      <td>1</td>\n",
       "      <td>2017-01-01 19:27:17</td>\n",
       "      <td>283.00</td>\n",
       "      <td>1</td>\n",
       "    </tr>\n",
       "  </tbody>\n",
       "</table>\n",
       "</div>"
      ],
      "text/plain": [
       "   customer_id  gender                 date    value  predicted_gender\n",
       "0         1000       0  2017-01-01 00:11:31   198.50                 1\n",
       "1         1001       0  2017-01-01 00:29:56   338.00                 1\n",
       "2         1002       1  2017-01-01 01:30:31   733.00                 1\n",
       "3         1003       1  2017-01-01 01:34:22   772.00                 1\n",
       "4         1004       0  2017-01-01 03:11:54   508.00                 1\n",
       "5         1005       1  2017-01-01 10:08:05   338.00                 0\n",
       "6         1006       1  2017-01-01 15:42:57  1526.43                 1\n",
       "7         1007       0  2017-01-01 15:59:50   168.00                 0\n",
       "8         1008       0  2017-01-01 18:01:04   207.99                 0\n",
       "9         1009       1  2017-01-01 19:27:17   283.00                 1"
      ]
     },
     "execution_count": 4,
     "metadata": {},
     "output_type": "execute_result"
    }
   ],
   "source": [
    "data.head(10)"
   ]
  },
  {
   "cell_type": "code",
   "execution_count": 5,
   "metadata": {},
   "outputs": [
    {
     "data": {
      "text/plain": [
       "customer_id           int64\n",
       "gender                int64\n",
       "date                 object\n",
       "value               float64\n",
       "predicted_gender      int64\n",
       "dtype: object"
      ]
     },
     "execution_count": 5,
     "metadata": {},
     "output_type": "execute_result"
    }
   ],
   "source": [
    "data.dtypes"
   ]
  },
  {
   "cell_type": "code",
   "execution_count": 6,
   "metadata": {},
   "outputs": [
    {
     "data": {
      "text/plain": [
       "customer_id                  int64\n",
       "gender                       int64\n",
       "date                datetime64[ns]\n",
       "value                      float64\n",
       "predicted_gender             int64\n",
       "dtype: object"
      ]
     },
     "execution_count": 6,
     "metadata": {},
     "output_type": "execute_result"
    }
   ],
   "source": [
    "data['date'] = pd.to_datetime(data['date'])\n",
    "data.dtypes"
   ]
  },
  {
   "cell_type": "code",
   "execution_count": 7,
   "metadata": {},
   "outputs": [
    {
     "data": {
      "text/plain": [
       "(13471, 5)"
      ]
     },
     "execution_count": 7,
     "metadata": {},
     "output_type": "execute_result"
    }
   ],
   "source": [
    "data.shape"
   ]
  },
  {
   "cell_type": "markdown",
   "metadata": {},
   "source": [
    "### A) Assemble a dataframe with one row per customer and the following columns:\n",
    "\n",
    "* customer_id\n",
    "* gender\n",
    "* most_recent_order_date\n",
    "* order_count (number of orders placed by this customer)\n",
    "\n",
    "Sort the dataframe by customer_id ascending and display the first 10 rows."
   ]
  },
  {
   "cell_type": "code",
   "execution_count": 26,
   "metadata": {},
   "outputs": [
    {
     "data": {
      "text/html": [
       "<div>\n",
       "<style scoped>\n",
       "    .dataframe tbody tr th:only-of-type {\n",
       "        vertical-align: middle;\n",
       "    }\n",
       "\n",
       "    .dataframe tbody tr th {\n",
       "        vertical-align: top;\n",
       "    }\n",
       "\n",
       "    .dataframe thead th {\n",
       "        text-align: right;\n",
       "    }\n",
       "</style>\n",
       "<table border=\"1\" class=\"dataframe\">\n",
       "  <thead>\n",
       "    <tr style=\"text-align: right;\">\n",
       "      <th></th>\n",
       "      <th>customer_id</th>\n",
       "      <th>gender</th>\n",
       "      <th>most_recent_order_date</th>\n",
       "      <th>order_count</th>\n",
       "    </tr>\n",
       "  </thead>\n",
       "  <tbody>\n",
       "    <tr>\n",
       "      <th>0</th>\n",
       "      <td>1000</td>\n",
       "      <td>0</td>\n",
       "      <td>2017-01-01 00:11:31</td>\n",
       "      <td>1.0</td>\n",
       "    </tr>\n",
       "    <tr>\n",
       "      <th>1</th>\n",
       "      <td>1001</td>\n",
       "      <td>0</td>\n",
       "      <td>2017-01-01 00:29:56</td>\n",
       "      <td>1.0</td>\n",
       "    </tr>\n",
       "    <tr>\n",
       "      <th>2</th>\n",
       "      <td>1002</td>\n",
       "      <td>1</td>\n",
       "      <td>2017-02-19 21:35:31</td>\n",
       "      <td>3.0</td>\n",
       "    </tr>\n",
       "    <tr>\n",
       "      <th>3</th>\n",
       "      <td>1003</td>\n",
       "      <td>1</td>\n",
       "      <td>2017-04-26 02:37:20</td>\n",
       "      <td>4.0</td>\n",
       "    </tr>\n",
       "    <tr>\n",
       "      <th>4</th>\n",
       "      <td>1004</td>\n",
       "      <td>0</td>\n",
       "      <td>2017-01-01 03:11:54</td>\n",
       "      <td>1.0</td>\n",
       "    </tr>\n",
       "    <tr>\n",
       "      <th>5</th>\n",
       "      <td>1005</td>\n",
       "      <td>1</td>\n",
       "      <td>2017-12-16 01:39:27</td>\n",
       "      <td>2.0</td>\n",
       "    </tr>\n",
       "    <tr>\n",
       "      <th>6</th>\n",
       "      <td>1006</td>\n",
       "      <td>1</td>\n",
       "      <td>2017-05-09 15:27:20</td>\n",
       "      <td>3.0</td>\n",
       "    </tr>\n",
       "    <tr>\n",
       "      <th>7</th>\n",
       "      <td>1007</td>\n",
       "      <td>0</td>\n",
       "      <td>2017-01-01 15:59:50</td>\n",
       "      <td>1.0</td>\n",
       "    </tr>\n",
       "    <tr>\n",
       "      <th>8</th>\n",
       "      <td>1008</td>\n",
       "      <td>0</td>\n",
       "      <td>2017-12-17 05:47:48</td>\n",
       "      <td>3.0</td>\n",
       "    </tr>\n",
       "    <tr>\n",
       "      <th>9</th>\n",
       "      <td>1009</td>\n",
       "      <td>1</td>\n",
       "      <td>2017-01-01 19:27:17</td>\n",
       "      <td>1.0</td>\n",
       "    </tr>\n",
       "  </tbody>\n",
       "</table>\n",
       "</div>"
      ],
      "text/plain": [
       "   customer_id  gender most_recent_order_date  order_count\n",
       "0         1000       0    2017-01-01 00:11:31          1.0\n",
       "1         1001       0    2017-01-01 00:29:56          1.0\n",
       "2         1002       1    2017-02-19 21:35:31          3.0\n",
       "3         1003       1    2017-04-26 02:37:20          4.0\n",
       "4         1004       0    2017-01-01 03:11:54          1.0\n",
       "5         1005       1    2017-12-16 01:39:27          2.0\n",
       "6         1006       1    2017-05-09 15:27:20          3.0\n",
       "7         1007       0    2017-01-01 15:59:50          1.0\n",
       "8         1008       0    2017-12-17 05:47:48          3.0\n",
       "9         1009       1    2017-01-01 19:27:17          1.0"
      ]
     },
     "execution_count": 26,
     "metadata": {},
     "output_type": "execute_result"
    }
   ],
   "source": [
    "df = data.groupby('customer_id', as_index=False).agg({'gender': lambda x: stats.mode(x)[0][0], 'date': np.max, 'value': np.size})\n",
    "df.columns = ['customer_id','gender','most_recent_order_date','order_count']\n",
    "df = df.sort_values(['customer_id'])\n",
    "df.head(10)"
   ]
  },
  {
   "cell_type": "markdown",
   "metadata": {},
   "source": [
    "### B) Plot the count of orders per week for the store."
   ]
  },
  {
   "cell_type": "code",
   "execution_count": 61,
   "metadata": {},
   "outputs": [],
   "source": [
    "df_b = data.copy()\n",
    "df_b.drop(['predicted_gender'],axis=1,inplace=True)\n",
    "df_b['week'] = df_b.date.dt.strftime('%W')\n",
    "df_b = df_b.groupby(df_b['week'],as_index=False).agg({'value': np.size})\n",
    "df_b.columns = ['week','orders_per_week']"
   ]
  },
  {
   "cell_type": "markdown",
   "metadata": {},
   "source": [
    "**Week 0 is the starting days of Januaury that fall in the 52nd week of previous year**"
   ]
  },
  {
   "cell_type": "code",
   "execution_count": 84,
   "metadata": {},
   "outputs": [
    {
     "data": {
      "image/png": "[encoded data removed]",
      "text/plain": [
       "<Figure size 720x360 with 1 Axes>"
      ]
     },
     "metadata": {
      "needs_background": "light"
     },
     "output_type": "display_data"
    }
   ],
   "source": [
    "xcoords =[1]+[i for i in range(4,53,4)]\n",
    "plt.figure(figsize=(10,5))\n",
    "ax = sns.lineplot(x='week',y='orders_per_week',data= df_b)\n",
    "ax.set_title('Orders per week')\n",
    "ax.set_ylabel('Count of Orders')\n",
    "ax.set_xlabel('Week Number')\n",
    "plt.xticks(xcoords)\n",
    "for xc in xcoords:\n",
    "    plt.axvline(x=xc,color='black',linestyle='--',linewidth=0.5)\n",
    "plt.show(ax)"
   ]
  },
  {
   "cell_type": "markdown",
   "metadata": {},
   "source": [
    "### C) Compute the mean order value for gender 0 and for gender 1. Do you think the difference is significant? Justify your choice of method."
   ]
  },
  {
   "cell_type": "code",
   "execution_count": 85,
   "metadata": {},
   "outputs": [],
   "source": [
    "orders_0 = data[data.gender.eq(0)]['value'].to_numpy()\n",
    "orders_1= data[data.gender.eq(1)]['value'].to_numpy()\n",
    "N_0 = len(orders_0)\n",
    "N_1 = len(orders_1)"
   ]
  },
  {
   "cell_type": "code",
   "execution_count": 86,
   "metadata": {},
   "outputs": [
    {
     "name": "stdout",
     "output_type": "stream",
     "text": [
      "Mean order value for\u001b[1m gender 0 \u001b[0mis\u001b[1m 363.89 \u001b[0m\n",
      "Mean order value for\u001b[1m gender 1 \u001b[0mis\u001b[1m 350.71 \u001b[0m\n"
     ]
    }
   ],
   "source": [
    "mean_0 = np.mean(orders_0)\n",
    "mean_1 = np.mean(orders_1)\n",
    "\n",
    "print('Mean order value for\\033[1m gender 0 \\033[0mis\\033[1m {:0.2f} \\033[0m'.format(mean_0))\n",
    "print('Mean order value for\\033[1m gender 1 \\033[0mis\\033[1m {:0.2f} \\033[0m'.format(mean_1))"
   ]
  },
  {
   "cell_type": "code",
   "execution_count": 87,
   "metadata": {},
   "outputs": [
    {
     "name": "stdout",
     "output_type": "stream",
     "text": [
      "Skewness for gender 0 is 4.41\n"
     ]
    }
   ],
   "source": [
    "skewness_0 = stats.skew(orders_0, axis=0, bias=True)\n",
    "print('Skewness for gender 0 is {:0.2f}'.format(skewness_0))"
   ]
  },
  {
   "cell_type": "code",
   "execution_count": 88,
   "metadata": {},
   "outputs": [
    {
     "name": "stdout",
     "output_type": "stream",
     "text": [
      "Skewness for gender 1 is 4.91\n"
     ]
    }
   ],
   "source": [
    "skewness_1 = stats.skew(orders_1, axis=0, bias=True)\n",
    "print('Skewness for gender 1 is {:0.2f}'.format(skewness_1))"
   ]
  },
  {
   "cell_type": "code",
   "execution_count": 89,
   "metadata": {},
   "outputs": [
    {
     "data": {
      "image/png": "[encoded data removed]",
      "text/plain": [
       "<Figure size 432x288 with 1 Axes>"
      ]
     },
     "metadata": {
      "needs_background": "light"
     },
     "output_type": "display_data"
    }
   ],
   "source": [
    "chart = sns.distplot(orders_0)\n",
    "chart.set_title('Distribution of orders for gender 0')\n",
    "plt.show(chart)"
   ]
  },
  {
   "cell_type": "code",
   "execution_count": 90,
   "metadata": {
    "scrolled": true
   },
   "outputs": [
    {
     "data": {
      "image/png": "[encoded data removed]",
      "text/plain": [
       "<Figure size 432x288 with 1 Axes>"
      ]
     },
     "metadata": {
      "needs_background": "light"
     },
     "output_type": "display_data"
    }
   ],
   "source": [
    "chart = sns.distplot(orders_1)\n",
    "chart.set_title('Distribution of orders for gender 1')\n",
    "plt.show(chart)"
   ]
  },
  {
   "cell_type": "markdown",
   "metadata": {},
   "source": [
    "**Both seem like log normal distributions with skewness to the right.<br>\n",
    "We can do a log transform and check the distributions.**"
   ]
  },
  {
   "cell_type": "code",
   "execution_count": 91,
   "metadata": {},
   "outputs": [
    {
     "data": {
      "image/png": "[encoded data removed]",
      "text/plain": [
       "<Figure size 432x288 with 1 Axes>"
      ]
     },
     "metadata": {
      "needs_background": "light"
     },
     "output_type": "display_data"
    }
   ],
   "source": [
    "new0 = np.array([np.log(i+10e-5) for i in orders_0])\n",
    "a = sns.distplot(new0)\n",
    "plt.show(a)"
   ]
  },
  {
   "cell_type": "code",
   "execution_count": 92,
   "metadata": {},
   "outputs": [
    {
     "data": {
      "image/png": "[encoded data removed]",
      "text/plain": [
       "<Figure size 432x288 with 1 Axes>"
      ]
     },
     "metadata": {
      "needs_background": "light"
     },
     "output_type": "display_data"
    }
   ],
   "source": [
    "new1 = np.array([np.log(i+10e-5) for i in orders_1])\n",
    "a = sns.distplot(new1)\n",
    "plt.show(a)"
   ]
  },
  {
   "cell_type": "markdown",
   "metadata": {},
   "source": [
    "**The distributions don't look completely normal.<br>\n",
    "Let's plot a QQ-Plot and verify the normality.**"
   ]
  },
  {
   "cell_type": "code",
   "execution_count": 93,
   "metadata": {},
   "outputs": [
    {
     "data": {
      "image/png": "[encoded data removed]",
      "text/plain": [
       "<Figure size 432x288 with 1 Axes>"
      ]
     },
     "metadata": {
      "needs_background": "light"
     },
     "output_type": "display_data"
    }
   ],
   "source": [
    "sm.qqplot(new0, line ='45') \n",
    "plt.show()"
   ]
  },
  {
   "cell_type": "code",
   "execution_count": 94,
   "metadata": {},
   "outputs": [
    {
     "data": {
      "image/png": "[encoded data removed]",
      "text/plain": [
       "<Figure size 432x288 with 1 Axes>"
      ]
     },
     "metadata": {
      "needs_background": "light"
     },
     "output_type": "display_data"
    }
   ],
   "source": [
    "sm.qqplot(new1, line ='45') \n",
    "plt.show()"
   ]
  },
  {
   "cell_type": "markdown",
   "metadata": {},
   "source": [
    "**It looks like the distributions aren't normal. <br>\n",
    "The distributions look multimodal/bi-modal.**"
   ]
  },
  {
   "cell_type": "code",
   "execution_count": 95,
   "metadata": {},
   "outputs": [
    {
     "name": "stdout",
     "output_type": "stream",
     "text": [
      "Number of samples with gender 0 is 6759\n",
      "Number of samples with gender 1 is 6712\n"
     ]
    }
   ],
   "source": [
    "print(f'Number of samples with gender 0 is {N_0}')\n",
    "print(f'Number of samples with gender 1 is {N_1}')"
   ]
  },
  {
   "cell_type": "markdown",
   "metadata": {},
   "source": [
    "**Assume null hypothesis that both the groups have equal variance and conduct Levene test with alpha = 0.05**"
   ]
  },
  {
   "cell_type": "code",
   "execution_count": 96,
   "metadata": {},
   "outputs": [
    {
     "name": "stdout",
     "output_type": "stream",
     "text": [
      "The p-value for Levene test is 0.018782230716425024\n"
     ]
    }
   ],
   "source": [
    "l_stat,levene_pvalue = stats.levene(orders_0,orders_1)\n",
    "print(f'The p-value for Levene test is {levene_pvalue}')"
   ]
  },
  {
   "cell_type": "markdown",
   "metadata": {},
   "source": [
    "**Since p-value is lesser than alpha we reject the null hypothesis that the two groups have equal variances**"
   ]
  },
  {
   "cell_type": "markdown",
   "metadata": {},
   "source": [
    "**We have large number of samples so we can do Welch t-test as it's robust to assumption of normality of data. <br>\n",
    " As per Levene test we can't assume equal variance for both groups. <br>\n",
    " We'll do indpendent Welch t-test for unequal variances between the two groups with alpha = 0.05.<br>**"
   ]
  },
  {
   "cell_type": "code",
   "execution_count": 78,
   "metadata": {},
   "outputs": [],
   "source": [
    "t_stat, p_val = stats.ttest_ind(a=orders_0, b=orders_1, equal_var=False, nan_policy='omit')"
   ]
  },
  {
   "cell_type": "code",
   "execution_count": 79,
   "metadata": {},
   "outputs": [
    {
     "name": "stdout",
     "output_type": "stream",
     "text": [
      "Welch t-test P-value is 0.04816296295128402\n"
     ]
    }
   ],
   "source": [
    "print(f'Welch t-test P-value is {p_val}')"
   ]
  },
  {
   "cell_type": "markdown",
   "metadata": {},
   "source": [
    "**The obtained p-value is very close to our alpha and normally we would reject the Null hypothesis.<br>\n",
    "The difference in means seems to be statistically different.**"
   ]
  },
  {
   "cell_type": "markdown",
   "metadata": {},
   "source": [
    "**We conduct the Mann Whitney U-test to be double sure whether the two groups are statistically significant.**"
   ]
  },
  {
   "cell_type": "code",
   "execution_count": 80,
   "metadata": {},
   "outputs": [],
   "source": [
    "u_stat, p_val = stats.mannwhitneyu(orders_0, orders_1)"
   ]
  },
  {
   "cell_type": "code",
   "execution_count": 81,
   "metadata": {},
   "outputs": [
    {
     "name": "stdout",
     "output_type": "stream",
     "text": [
      "Mann Whitney U-test P-value is 0.15220525508505944\n"
     ]
    }
   ],
   "source": [
    "print(f'Mann Whitney U-test P-value is {p_val}')"
   ]
  },
  {
   "cell_type": "markdown",
   "metadata": {},
   "source": [
    "**As per Mann Whitney U-test we can conclude that both the groups belong to the same distribution.\n",
    "We conclude that the difference is not statistically significant.**"
   ]
  },
  {
   "cell_type": "markdown",
   "metadata": {},
   "source": [
    "### D) Generate a confusion matrix for the gender predictions of customers in this dataset. You can assume that there is only one gender prediction for each customer. What does the confusion matrix tell you about the quality of the predictions?"
   ]
  },
  {
   "cell_type": "markdown",
   "metadata": {},
   "source": [
    "**We take the mode for gender and predicted gender for each customer id**"
   ]
  },
  {
   "cell_type": "code",
   "execution_count": 105,
   "metadata": {},
   "outputs": [],
   "source": [
    "df = data.groupby('customer_id', as_index=False).agg({'gender': lambda x: stats.mode(x)[0][0], 'predicted_gender': lambda x: stats.mode(x)[0][0]})"
   ]
  },
  {
   "cell_type": "code",
   "execution_count": 106,
   "metadata": {},
   "outputs": [],
   "source": [
    "from sklearn.metrics import confusion_matrix\n",
    "y = df['gender'].to_numpy()\n",
    "y_pred = df['predicted_gender'].to_numpy()\n",
    "cf_matrix = confusion_matrix(y, y_pred)"
   ]
  },
  {
   "cell_type": "code",
   "execution_count": 107,
   "metadata": {},
   "outputs": [],
   "source": [
    "tn, fp, fn, tp = cf_matrix.ravel()"
   ]
  },
  {
   "cell_type": "code",
   "execution_count": 108,
   "metadata": {},
   "outputs": [
    {
     "data": {
      "image/png": "[encoded data removed]",
      "text/plain": [
       "<Figure size 720x360 with 2 Axes>"
      ]
     },
     "metadata": {
      "needs_background": "light"
     },
     "output_type": "display_data"
    }
   ],
   "source": [
    "plt.figure(figsize=(10,5))\n",
    "g = sns.heatmap(cf_matrix, annot=True,fmt='d',cmap='Blues')\n",
    "g.set_title('Confusion Matrix')\n",
    "g.set_xlabel('Predicted')\n",
    "g.set_ylabel('Actual')\n",
    "plt.show()"
   ]
  },
  {
   "cell_type": "code",
   "execution_count": 109,
   "metadata": {},
   "outputs": [
    {
     "name": "stdout",
     "output_type": "stream",
     "text": [
      "Number of gender 0 is 4407\n",
      "Number of gender 1 is 4407\n"
     ]
    }
   ],
   "source": [
    "print('Number of gender 0 is {}'.format(len(y[y==0])))\n",
    "print('Number of gender 1 is {}'.format(len(y[y==1])))"
   ]
  },
  {
   "cell_type": "markdown",
   "metadata": {},
   "source": [
    "**Since there is no class imbalance and we want to maximize correct predictions for both the classes as they both generate roughly equal revenue, <br>\n",
    "Accuracy is a good metric in this case. <br>\n",
    "True positives and true negatives are important in this case.**"
   ]
  },
  {
   "cell_type": "code",
   "execution_count": 111,
   "metadata": {},
   "outputs": [
    {
     "name": "stdout",
     "output_type": "stream",
     "text": [
      "Accuracy is 0.65\n",
      "Sensitivity is 0.80\n",
      "Specificity is 0.50\n"
     ]
    }
   ],
   "source": [
    "acc = (tp+tn)/(tp+tn+fp+fn)\n",
    "sensitivity = tp/(tp+fn)\n",
    "specificity = tn/(tn+fp)\n",
    "print('Accuracy is {:0.2f}'.format(acc))\n",
    "print('Sensitivity is {:0.2f}'.format(sensitivity))\n",
    "print('Specificity is {:0.2f}'.format(specificity))"
   ]
  },
  {
   "cell_type": "markdown",
   "metadata": {},
   "source": [
    "**The model is predicting gender 1 relatively better than gender 0.**"
   ]
  },
  {
   "cell_type": "markdown",
   "metadata": {},
   "source": [
    "### E) Describe one of your favorite tools or techniques and give a small example of how it's helped you solve a problem. Limit your answer to one paragraph, and please be specific."
   ]
  },
  {
   "cell_type": "markdown",
   "metadata": {},
   "source": [
    "One of my favorite techniques is regularization. I built an eye tracking software during my latest internship where I was converting the eye images into flattened vector and predicting the x and y locations of the screen the user is looking at. During the calibration phase, I ask the user to look at few calibration points on the screen and collect the images and flatten them as vector of length N where each element is a variable in the regression equation. I noticed that since the training data is low (less than 100 data points) the model was over-fitting and not predicting accurately. I applied regularization using ridge regression and lasso regression and finally settled on ridge regression as it was giving less error and worked well because of small training size."
   ]
  }
 ],
 "metadata": {
  "kernelspec": {
   "display_name": "Python 3",
   "language": "python",
   "name": "python3"
  },
  "language_info": {
   "codemirror_mode": {
    "name": "ipython",
    "version": 3
   },
   "file_extension": ".py",
   "mimetype": "text/x-python",
   "name": "python",
   "nbconvert_exporter": "python",
   "pygments_lexer": "ipython3",
   "version": "3.8.3"
  }
 },
 "nbformat": 4,
 "nbformat_minor": 4
}
